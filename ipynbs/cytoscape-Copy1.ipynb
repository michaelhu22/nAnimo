{
 "cells": [
  {
   "cell_type": "code",
   "execution_count": null,
   "metadata": {},
   "outputs": [],
   "source": [
    "%run functions/cytoscapeFunctions\n",
    "%run functions/edgeFunctions\n",
    "%run functions/springLayoutJN-Copy1"
   ]
  },
  {
   "cell_type": "code",
   "execution_count": null,
   "metadata": {},
   "outputs": [],
   "source": [
    "from py2cytoscape import cyrest\n",
    "import networkx as nx\n",
    "import numpy as np\n",
    "import pandas as pd\n",
    "import random\n",
    "import time\n",
    "import tempfile\n",
    "from networkx.generators.random_graphs import barabasi_albert_graph as ba"
   ]
  },
  {
   "cell_type": "code",
   "execution_count": null,
   "metadata": {},
   "outputs": [],
   "source": [
    "dirPath = os.path.dirname(os.path.abspath('template.cys'))"
   ]
  },
  {
   "cell_type": "code",
   "execution_count": null,
   "metadata": {},
   "outputs": [],
   "source": [
    "cytoscape = cyrest.cyclient()"
   ]
  },
  {
   "cell_type": "code",
   "execution_count": null,
   "metadata": {
    "scrolled": true
   },
   "outputs": [],
   "source": [
    "cytoscape.status() "
   ]
  },
  {
   "cell_type": "code",
   "execution_count": null,
   "metadata": {},
   "outputs": [],
   "source": [
    "from py2cytoscape.data.cyrest_client import CyRestClient\n",
    "cy = CyRestClient()"
   ]
  },
  {
   "cell_type": "code",
   "execution_count": null,
   "metadata": {},
   "outputs": [],
   "source": [
    "cy.session.delete()"
   ]
  },
  {
   "cell_type": "code",
   "execution_count": null,
   "metadata": {},
   "outputs": [],
   "source": [
    "import os\n",
    "cytoscape.session.open(session_file = os.path.abspath(\"template.cys\"))"
   ]
  },
  {
   "cell_type": "code",
   "execution_count": null,
   "metadata": {},
   "outputs": [],
   "source": [
    "# G = nx.fast_gnp_random_graph(15, 0.2)\n",
    "# G1 = nx.fast_gnp_random_graph(10, 0.3)\n",
    "# addEdgeAttrib(G, 'weight', 25,30)\n",
    "# addEdgeAttrib(G, 'color',5,200)\n",
    "# addEdgeAttrib(G1, 'weight',30,35)\n",
    "# addEdgeAttrib(G1, 'color',5,200)"
   ]
  },
  {
   "cell_type": "code",
   "execution_count": null,
   "metadata": {},
   "outputs": [],
   "source": [
    "networkFolder = os.path.join(os.path.dirname(os.path.abspath(\"template.cys\")), 'networks')\n",
    "networkFolder\n",
    "\n",
    "GMP = os.path.join(networkFolder, 'GMP')\n",
    "Prog = os.path.join(networkFolder, 'Progenitor')\n",
    "\n",
    "GMPedge = os.path.join(GMP, 'edge.tsv')\n",
    "GMPnode = os.path.join(GMP, 'node.tsv')\n",
    "\n",
    "ProgEdge = os.path.join(Prog, 'edge.tsv')\n",
    "ProgNode = os.path.join(Prog, 'node.tsv')\n",
    "\n",
    "gmpEdgeDF = pd.read_csv(GMPedge, delimiter = '\\t')\n",
    "gmpNodeDF = pd.read_csv(GMPnode, delimiter = '\\t')\n",
    "progEdgeDF = pd.read_csv(ProgEdge, delimiter = '\\t')\n",
    "progNodeDF = pd.read_csv(ProgNode, delimiter = '\\t')\n",
    "\n",
    "gmpNetwork = nx.Graph()\n",
    "gmpOverlap = 0\n",
    "\n",
    "for i in range (len(gmpEdgeDF)):\n",
    "    if gmpNetwork.has_edge(gmpEdgeDF['Regulator'][i], gmpEdgeDF['Target'][i]):\n",
    "        gmpOverlap += 1\n",
    "    gmpNetwork.add_edge(gmpEdgeDF['Regulator'][i], gmpEdgeDF['Target'][i])\n",
    "    \n",
    "progNetwork = nx.Graph()\n",
    "\n",
    "progOverlap = 0\n",
    "\n",
    "for i in range (len(progEdgeDF)):\n",
    "    if progNetwork.has_edge(progEdgeDF['Regulator'][i], progEdgeDF['Target'][i]):\n",
    "        progOverlap += 1\n",
    "    progNetwork.add_edge(progEdgeDF['Regulator'][i], progEdgeDF['Target'][i])\n",
    "\n",
    "print(gmpOverlap, progOverlap)    \n",
    "\n",
    "gmpNodeIndexDF = gmpNodeDF.set_index('Name')\n",
    "progNodeIndexDF = progNodeDF.set_index('Name')\n",
    "\n",
    "nx.set_node_attributes(gmpNetwork, gmpNodeDF.to_dict('index'))\n",
    "nx.set_node_attributes(gmpNetwork, gmpNodeIndexDF.to_dict('index'))\n",
    "\n",
    "gmpNetwork1 = gmpNetwork.copy()\n",
    "# gmpNetwork1.remove_node('IRF7')\n",
    "\n",
    "nx.set_node_attributes(progNetwork, progNodeDF.to_dict('index'))\n",
    "nx.set_node_attributes(progNetwork, progNodeIndexDF.to_dict('index'))"
   ]
  },
  {
   "cell_type": "raw",
   "metadata": {},
   "source": [
    "# addEdgeAttrib(progNetwork, 'weight', 25,30)\n",
    "# addEdgeAttrib(progNetwork, 'color',5,200)\n",
    "addEdgeAttrib(gmpNetwork, 'weight',0,20)\n",
    "# addEdgeAttrib(gmpNetwork, 'color',5,200)\n",
    "\n",
    "addEdgeAttrib(gmpNetwork1, 'weight',20,35)\n",
    "# addEdgeAttrib(gmpNetwork1, 'color',0,35)\n",
    "\n",
    "addEdgeAttrib(progNetwork, 'weight', 0,10)"
   ]
  },
  {
   "cell_type": "code",
   "execution_count": null,
   "metadata": {},
   "outputs": [],
   "source": [
    "addEdgeAttrib(gmpNetwork, 'weight',0,1)\n",
    "addEdgeAttrib(gmpNetwork1, 'weight', 0, 1)"
   ]
  },
  {
   "cell_type": "code",
   "execution_count": null,
   "metadata": {},
   "outputs": [],
   "source": [
    "addEdgeAttrib(progNetwork, 'weight', 17,23)"
   ]
  },
  {
   "cell_type": "code",
   "execution_count": null,
   "metadata": {},
   "outputs": [],
   "source": [
    "conformEdges(gmpNetwork, gmpNetwork1)\n",
    "# conformEdges(gmpNetwork, progNetwork)\n",
    "networks = fillBetweenEdges(gmpNetwork, gmpNetwork1, 10)\n",
    "# networks2 = fillBetweenEdges(gmpNetwork, progNetwork, 10)"
   ]
  },
  {
   "cell_type": "code",
   "execution_count": null,
   "metadata": {},
   "outputs": [],
   "source": []
  },
  {
   "cell_type": "code",
   "execution_count": null,
   "metadata": {},
   "outputs": [],
   "source": [
    "deleteZeroWeights(networks)"
   ]
  },
  {
   "cell_type": "code",
   "execution_count": null,
   "metadata": {},
   "outputs": [],
   "source": [
    "importEdge(convertEdge(networks[0]), cytoscape)"
   ]
  },
  {
   "cell_type": "code",
   "execution_count": null,
   "metadata": {},
   "outputs": [],
   "source": [
    "importNode(convertNode(networks[0]), cytoscape)"
   ]
  },
  {
   "cell_type": "raw",
   "metadata": {},
   "source": [
    "cytoscape.network.create_empty(RootNetworkList = ' -- Create new network collection --')"
   ]
  },
  {
   "cell_type": "raw",
   "metadata": {},
   "source": [
    "importEdge(convertEdge(networks[9]), cytoscape)"
   ]
  },
  {
   "cell_type": "raw",
   "metadata": {},
   "source": [
    "importNode(convertNode(networks[9]), cytoscape)"
   ]
  },
  {
   "cell_type": "code",
   "execution_count": null,
   "metadata": {},
   "outputs": [],
   "source": [
    "deleteLoneListNodes(networks)"
   ]
  },
  {
   "cell_type": "code",
   "execution_count": null,
   "metadata": {},
   "outputs": [],
   "source": [
    "convertNode(networks[0]).index"
   ]
  },
  {
   "cell_type": "code",
   "execution_count": null,
   "metadata": {
    "scrolled": false
   },
   "outputs": [],
   "source": [
    "layout = fruchterman_reingold_layout_edit(networks[0], seed = 1,iterations = 1000, pretendIterations = 50)\n",
    "layoutList = list(layout.values())\n",
    "for x in range(len(layoutList)):\n",
    "    for y in range (2):\n",
    "        layoutList[x][y] = (layoutList[x][y]*1250)\n",
    "layoutPD = pd.DataFrame(layoutList, columns = ['x','y'],index = convertNode(networks[0]).index)\n",
    "nx.draw(networks[0], pos = layout)"
   ]
  },
  {
   "cell_type": "code",
   "execution_count": null,
   "metadata": {},
   "outputs": [],
   "source": [
    "toCytoscape(convertNode(networks[0]), convertEdge(networks[0]), cytoscape)"
   ]
  },
  {
   "cell_type": "code",
   "execution_count": null,
   "metadata": {},
   "outputs": [],
   "source": [
    "importNode(layoutPD, cytoscape)"
   ]
  },
  {
   "cell_type": "code",
   "execution_count": null,
   "metadata": {},
   "outputs": [],
   "source": [
    "layout1 = fruchterman_reingold_layout_edit(networks[1], pos = layout, seed = 1, iterations = 1000, pretendIterations = 50, stop = 15)\n",
    "nx.draw(networks[1], pos = layout1, with_labels = False)"
   ]
  },
  {
   "cell_type": "code",
   "execution_count": null,
   "metadata": {
    "scrolled": false
   },
   "outputs": [],
   "source": [
    "layout2 = fruchterman_reingold_layout_edit(networks[2], pos = layout1, seed = 1, iterations = 1000, pretendIterations = 50, stop = 15)\n",
    "nx.draw(networks[9], pos = layout2, with_labels = False)"
   ]
  },
  {
   "cell_type": "code",
   "execution_count": null,
   "metadata": {},
   "outputs": [],
   "source": [
    "importNode(layoutPD, cytoscape)"
   ]
  },
  {
   "cell_type": "code",
   "execution_count": null,
   "metadata": {
    "scrolled": true
   },
   "outputs": [],
   "source": [
    "nx.draw(networks[0], pos = layout)"
   ]
  },
  {
   "cell_type": "code",
   "execution_count": null,
   "metadata": {},
   "outputs": [],
   "source": [
    "convertEdge(networks[0])"
   ]
  },
  {
   "cell_type": "code",
   "execution_count": null,
   "metadata": {},
   "outputs": [],
   "source": [
    "layoutPD"
   ]
  },
  {
   "cell_type": "code",
   "execution_count": null,
   "metadata": {},
   "outputs": [],
   "source": [
    "importNode(layoutPD, cytoscape)"
   ]
  },
  {
   "cell_type": "code",
   "execution_count": null,
   "metadata": {},
   "outputs": [],
   "source": [
    "# for network in networks:\n",
    "#     nx.set_node_attributes(network, gmpNodeDF.to_dict('index'))\n",
    "#     nx.set_node_attributes(network, gmpNodeIndexDF.to_dict('index'))\n",
    "    \n",
    "gmpNames = convertNode(gmpNetwork).index"
   ]
  },
  {
   "cell_type": "code",
   "execution_count": null,
   "metadata": {},
   "outputs": [],
   "source": [
    "sampLayout = fruchterman_reingold_layout_edit(networks[0], seed = 1, iterations = 1000, pretendIterations = 50, stop = 100)\n",
    "sampLayoutL = list(sampLayout.values())\n",
    "for i in range(len(sampLayoutL)):\n",
    "    for j in range (2):\n",
    "        sampLayoutL[i][j] = (sampLayoutL[i][j]*1000)\n",
    "        \n",
    "sampLayoutPD = pd.DataFrame(sampLayoutL, columns = ['x', 'y'], index = gmpNames)"
   ]
  },
  {
   "cell_type": "code",
   "execution_count": null,
   "metadata": {},
   "outputs": [],
   "source": [
    "sampLayoutPD"
   ]
  },
  {
   "cell_type": "code",
   "execution_count": null,
   "metadata": {},
   "outputs": [],
   "source": [
    "sampLayout1 = fruchterman_reingold_layout_edit(networks[2], seed = 1, iterations = 1000, pretendIterations = 50, stop = 100)\n",
    "sampLayoutL1 = list(sampLayout1.values())\n",
    "for i in range(len(sampLayoutL1)):\n",
    "    for j in range (2):\n",
    "        sampLayoutL1[i][j] = (sampLayoutL1[i][j]*1000)\n",
    "        \n",
    "sampLayoutPD1 = pd.DataFrame(sampLayoutL1, columns = ['x', 'y'], index = gmpNames)"
   ]
  },
  {
   "cell_type": "code",
   "execution_count": null,
   "metadata": {},
   "outputs": [],
   "source": [
    "convertEdge(networks[1])"
   ]
  },
  {
   "cell_type": "code",
   "execution_count": null,
   "metadata": {},
   "outputs": [],
   "source": [
    "sampLayoutPD1"
   ]
  },
  {
   "cell_type": "code",
   "execution_count": null,
   "metadata": {},
   "outputs": [],
   "source": [
    "importEdge(convertEdge(networks[0]), cytoscape)\n",
    "importNode(convertNode(networks[0]), cytoscape)\n",
    "importNode(sampLayoutPD, cytoscape)"
   ]
  },
  {
   "cell_type": "code",
   "execution_count": null,
   "metadata": {},
   "outputs": [],
   "source": [
    "cytoscape.network.create_empty(RootNetworkList = ' -- Create new network collection --')\n",
    "importEdge(convertEdge(networks[1]), cytoscape)\n",
    "importNode(convertNode(networks[1]), cytoscape)\n",
    "importNode(sampLayoutPD1, cytoscape)"
   ]
  },
  {
   "cell_type": "code",
   "execution_count": null,
   "metadata": {},
   "outputs": [],
   "source": [
    "convertNode(networks[1])"
   ]
  },
  {
   "cell_type": "raw",
   "metadata": {},
   "source": [
    "\n",
    "# importing networks w edge changes, no stop change\n",
    "\n",
    "dirName = 'edgeChange1'\n",
    "if not os.path.exists(os.path.abspath(dirName)):\n",
    "    os.makedirs(os.path.abspath(dirName))\n",
    "    \n",
    "path = os.path.join(os.path.dirname(os.path.abspath(\"template.cys\")), dirName)\n",
    "\n",
    "for i in range (10):\n",
    "    layout = fruchterman_reingold_layout_edit(networks[i], seed = 1, iterations = 1000, pretendIterations = 50, stop = 100)\n",
    "    layoutL = list(layout.values())\n",
    "    for x in range(len(layoutL)):\n",
    "        for y in range (2):\n",
    "            layoutL[x][y] = (layoutL[x][y]*700)\n",
    "            \n",
    "    layoutPD = pd.DataFrame(layoutL, columns = ['x','y'], index = gmpNames)\n",
    "    \n",
    "    cytoscape.network.create_empty(RootNetworkList = ' -- Create new network collection --')\n",
    "    importEdge(convertEdge(networks[i]), cytoscape)\n",
    "    importNode(convertNode(networks[i]), cytoscape)\n",
    "    importNode(layoutPD, cytoscape)\n",
    "    \n",
    "    time.sleep(0.3)\n",
    "    \n",
    "    cytoscape.view.fit_content()\n",
    "    \n",
    "    time.sleep(0.3)\n",
    "    \n",
    "    cytoscape.view.export(\n",
    "        options = 'jpeg',\n",
    "        outputFile = os.path.join(path, str(i) +'.jpeg'))\n",
    "    "
   ]
  },
  {
   "cell_type": "raw",
   "metadata": {},
   "source": [
    "convertEdge(networks[0])"
   ]
  },
  {
   "cell_type": "raw",
   "metadata": {},
   "source": [
    "convertEdge(networks[2])"
   ]
  },
  {
   "cell_type": "raw",
   "metadata": {},
   "source": [
    "cytoscape.network.create_empty(RootNetworkList = ' -- Create new network collection --')"
   ]
  },
  {
   "cell_type": "raw",
   "metadata": {
    "scrolled": true
   },
   "source": [
    "nx.draw(networks[2], pos = sampLayout)"
   ]
  },
  {
   "cell_type": "raw",
   "metadata": {},
   "source": [
    "# importing networks w edge changes, no stop change\n",
    "\n"
   ]
  },
  {
   "cell_type": "raw",
   "metadata": {},
   "source": []
  },
  {
   "cell_type": "raw",
   "metadata": {},
   "source": []
  },
  {
   "cell_type": "raw",
   "metadata": {},
   "source": [
    "nx.draw(gmpNetwork, pos = layout)"
   ]
  },
  {
   "cell_type": "raw",
   "metadata": {},
   "source": [
    "layout = fruchterman_reingold_layout_edit(gmpNetwork, seed = 1, iterations = 1000, pretendIterations = 50, stop = 100)\n",
    "layoutL = list(layout.values())\n",
    "layoutL\n",
    "for i in range(len(layoutL)):\n",
    "    for j in range (2):\n",
    "        layoutL[i][j] = (layoutL[i][j]*1000)\n",
    "        \n",
    "layoutPD = pd.DataFrame(layoutL, columns = ['x', 'y'], index = gmpNames)"
   ]
  },
  {
   "cell_type": "raw",
   "metadata": {},
   "source": [
    "layoutPD"
   ]
  },
  {
   "cell_type": "raw",
   "metadata": {},
   "source": [
    "importEdge(gmpEdges, cytoscape)\n",
    "importNode(gmpNodes, cytoscape)\n",
    "importNode(layoutPD, cytoscape)"
   ]
  },
  {
   "cell_type": "raw",
   "metadata": {},
   "source": [
    "os.path.join(os.path.dirname(os.path.abspath(\"template.cys\")), 'hi')"
   ]
  },
  {
   "cell_type": "raw",
   "metadata": {},
   "source": [
    "importNode(gmpNodes, cytoscape)"
   ]
  },
  {
   "cell_type": "raw",
   "metadata": {},
   "source": [
    "dirName = 'outputTest6'\n",
    "if not os.path.exists(os.path.abspath(dirName)):\n",
    "    os.makedirs(os.path.abspath(dirName))\n",
    "    \n",
    "path = os.path.join(os.path.dirname(os.path.abspath(\"template.cys\")), dirName)\n",
    "\n",
    "for i in range (25):\n",
    "    layout = fruchterman_reingold_layout_edit(gmpNetwork, seed = 1, iterations = 2500, pretendIterations = 50, stop = 300+i*3)\n",
    "    layoutL = list(layout.values())\n",
    "    for x in range(len(layoutL)):\n",
    "        for y in range (2):\n",
    "            layoutL[x][y] = (float(layoutL[x][y])*1000)\n",
    "    \n",
    "    layoutPD = pd.DataFrame(layoutL, columns = ['x', 'y'], index = gmpNames)\n",
    "    \n",
    "    importEdge(gmpEdges, cytoscape)\n",
    "    time.sleep(0.3)\n",
    "    importNode(gmpNodes, cytoscape)\n",
    "    time.sleep(0.3)\n",
    "    importNode(layoutPD, cytoscape)\n",
    "    \n",
    "    time.sleep(0.3)\n",
    "    \n",
    "    cytoscape.view.fit_content()\n",
    "    \n",
    "    time.sleep(1)\n",
    "    \n",
    "    cytoscape.view.export(\n",
    "        options = 'jpeg',\n",
    "        outputFile = os.path.join(path, str(i) +'.jpeg'))\n",
    "    \n",
    "    \n",
    "    cytoscape.network.destroy()"
   ]
  },
  {
   "cell_type": "raw",
   "metadata": {},
   "source": [
    "cytoscape.network.destroy()"
   ]
  },
  {
   "cell_type": "raw",
   "metadata": {},
   "source": [
    "gmpSpring =nx.spring_layout(gmpNetwork)\n",
    "gmpLayout = list(gmpSpring.values())\n",
    "spread = 10000\n",
    "\n",
    "for i in range (len(gmpLayout)):\n",
    "        for j in range (2):\n",
    "            gmpLayout[i][j] = int(gmpLayout[i][j]*spread)\n",
    "\n",
    "                \n",
    "gmpCoords = pd.DataFrame(gmpLayout, columns = ['x', 'y'], index = gmpNames)\n",
    "gmpCoords"
   ]
  },
  {
   "cell_type": "raw",
   "metadata": {},
   "source": [
    "importEdge(gmpEdges, cytoscape)\n",
    "importNode(gmpNodes, cytoscape)"
   ]
  },
  {
   "cell_type": "raw",
   "metadata": {},
   "source": [
    "importNode(gmpCoords, cytoscape)"
   ]
  },
  {
   "cell_type": "raw",
   "metadata": {},
   "source": [
    "cytoscape.network.destroy()"
   ]
  },
  {
   "cell_type": "raw",
   "metadata": {},
   "source": [
    "importEdge(gmpEdges, cytoscape)\n",
    "importNode(gmpNodes, cytoscape)"
   ]
  },
  {
   "cell_type": "raw",
   "metadata": {},
   "source": [
    "importNode(gmpCoords1, cytoscape)"
   ]
  },
  {
   "cell_type": "raw",
   "metadata": {},
   "source": [
    "cytoscape.view.export(\n",
    "        options = 'jpeg',\n",
    "        outputFile = os.path.join(os.path.join(path, 'samplePic'), '10.jpeg'))"
   ]
  },
  {
   "cell_type": "raw",
   "metadata": {},
   "source": [
    "convertEdge(progNetwork)"
   ]
  },
  {
   "cell_type": "raw",
   "metadata": {
    "scrolled": true
   },
   "source": [
    "conformEdges(gmpNetwork,progNetwork)"
   ]
  },
  {
   "cell_type": "raw",
   "metadata": {},
   "source": [
    "convertEdge(progNetwork)"
   ]
  },
  {
   "cell_type": "raw",
   "metadata": {},
   "source": [
    "networks = fillBetweenEdges(gmpNetwork,progNetwork,25)\n",
    "# for i in networks:\n",
    "#     addNodeAttributes(i, 'Type', 'normal')"
   ]
  },
  {
   "cell_type": "raw",
   "metadata": {},
   "source": [
    "deleteZeroWeights(networks)"
   ]
  },
  {
   "cell_type": "raw",
   "metadata": {},
   "source": [
    "convertEdge(networks[0])"
   ]
  },
  {
   "cell_type": "raw",
   "metadata": {},
   "source": [
    "addNodeAttributes(G, 'Type', 'normal')\n",
    "addNodeAttributes(G1, 'Type', 'normal')"
   ]
  },
  {
   "cell_type": "raw",
   "metadata": {},
   "source": [
    "importEdge(convertEdge(G), cytoscape)\n",
    "importNode(convertNode(G), cytoscape)"
   ]
  },
  {
   "cell_type": "raw",
   "metadata": {},
   "source": [
    "# layout = addSpringCoords(G, 500)\n",
    "\n",
    "\n",
    "# for networkNum in range (len(networks)-1):\n",
    "#     importNode(layout, cytoscape)\n",
    "#     layout = addSpringCoords(networks[networkNum+1], spread = 500, inPos =  nx.spring_layout(networks[networkNum]), inIterations = networkNum*10)\n",
    "#     time.sleep(0.5)"
   ]
  },
  {
   "cell_type": "raw",
   "metadata": {},
   "source": [
    "# nx.spring_layout(G)"
   ]
  },
  {
   "cell_type": "raw",
   "metadata": {},
   "source": [
    "# layout = addSpringCoords(networks[0], spread = 500, inIterations = 10)\n",
    "# nodes = convertNode(networks[0])\n",
    "# importNode(layout, cytoscape)"
   ]
  },
  {
   "cell_type": "raw",
   "metadata": {},
   "source": [
    "# layout = list(nx.spring_layout(networks[0], iterations = 0).values())"
   ]
  },
  {
   "cell_type": "raw",
   "metadata": {},
   "source": [
    "# layout = list(nx.spring_layout(networks[0], iterations = 0).values())\n",
    "for i in range (len(layout)):\n",
    "            for j in range (2):\n",
    "                layout[i][j] = int(layout[i][j]*10000)\n",
    "\n",
    "df = pd.DataFrame(layout, columns = ['x', 'y'])\n",
    "\n",
    "df"
   ]
  },
  {
   "cell_type": "raw",
   "metadata": {},
   "source": [
    "importEdge(convertEdge(networks[0]), cytoscape)"
   ]
  },
  {
   "cell_type": "raw",
   "metadata": {},
   "source": [
    "cytoscape.ui.updateLodState(verbose=None)"
   ]
  },
  {
   "cell_type": "raw",
   "metadata": {},
   "source": [
    "importNode(df, cytoscape)"
   ]
  },
  {
   "cell_type": "raw",
   "metadata": {},
   "source": [
    "def importSpring (network,prevLayout, iterations = 50):\n",
    "    layout = nx.spring_layout(network, iterations = iterations, pos = prevLayout)\n",
    "\n",
    "#     spread = 5000\n",
    "\n",
    "#     layoutVals = list(layout.values())\n",
    "#     for i in range(len(layoutVals)):\n",
    "#         for j in range (2):\n",
    "#             layoutVals[i][j] = layoutVals[i][j]*spread\n",
    "\n",
    "#     layoutDF = pd.DataFrame(layoutVals, index = gmpNames, columns = ['x', 'y'])\n",
    "#     layoutDF\n",
    "    \n",
    "#     importNode(layoutDF, cytoscape)\n",
    "    \n",
    "    return(layout)"
   ]
  },
  {
   "cell_type": "raw",
   "metadata": {},
   "source": [
    "layout = nx.spring_layout(networks[0], iterations = 50)\n",
    "\n",
    "# spread = 5000\n",
    "\n",
    "# layoutVals = list(layout.values())\n",
    "# for i in range(len(layoutVals)):\n",
    "#     for j in range (2):\n",
    "#         layoutVals[i][j] = int(layoutVals[i][j]*spread)\n",
    "\n",
    "# layoutDF = pd.DataFrame(layoutVals, index = gmpNames, columns = ['x', 'y'])\n",
    "# layoutDF\n",
    "\n",
    "# importNode(layoutDF, cytoscape)"
   ]
  },
  {
   "cell_type": "raw",
   "metadata": {
    "scrolled": true
   },
   "source": [
    "layout"
   ]
  },
  {
   "cell_type": "raw",
   "metadata": {},
   "source": [
    "fixList = ['BCL11A', 'CSTA']"
   ]
  },
  {
   "cell_type": "raw",
   "metadata": {},
   "source": [
    "# layout3 = importSpring(networks[0], layout, iterations = 1)\n",
    "layout3 = nx.spring_layout(networks[0], pos = layout, iterations = 0, fixed = fixList)\n",
    "\n",
    "layout3"
   ]
  },
  {
   "cell_type": "raw",
   "metadata": {
    "scrolled": false
   },
   "source": [
    "importSpring(networks[6], layout, 0)\n",
    "# does not take weight into account?"
   ]
  },
  {
   "cell_type": "raw",
   "metadata": {},
   "source": [
    "# **************\n",
    "layout = nx.spring_layout(networks[0], iterations = 50)\n",
    "\n",
    "dirName = 'outputTest25'\n",
    "if not os.path.exists(os.path.abspath(dirName)):\n",
    "    os.makedirs(os.path.abspath(dirName))\n",
    "\n",
    "path = os.path.abspath(dirName)\n",
    "    \n",
    "for i in range (len(networks)):\n",
    "    importEdge(convertEdge(networks[i]), cytoscape)\n",
    "    importNode(convertNode(networks[i]), cytoscape)\n",
    "    time.sleep(0.3)\n",
    "    importNode(layoutDF, cytoscape)\n",
    "    layout = importSpring(networks[i] ,layout, 1)\n",
    "    time.sleep(0.5)\n",
    "    \n",
    "    cytoscape.ui.updateLodState(verbose=None)\n",
    "    \n",
    "    time.sleep(0.3)\n",
    "    \n",
    "    cytoscape.view.fit_content()\n",
    "    \n",
    "    time.sleep(0.3)\n",
    "    \n",
    "    cytoscape.view.export(\n",
    "        options = 'jpeg',\n",
    "        outputFile = os.path.join(path, str(i) +'.jpeg'))\n",
    "    \n",
    "    \n",
    "    cytoscape.network.destroy()\n",
    "    "
   ]
  },
  {
   "cell_type": "raw",
   "metadata": {},
   "source": [
    "os.path.join(os.path.join(dirPath, 'outputTest14'), str(i) +'.jpeg')"
   ]
  },
  {
   "cell_type": "raw",
   "metadata": {},
   "source": [
    "cytoscape.network.destroy()\n",
    "importEdge(convertEdge(networks[0]), cytoscape)\n",
    "importNode(convertNode(networks[0]), cytoscape)\n",
    "importSpring(layout, 10)\n",
    "time.sleep(0.3)\n",
    "cytoscape.view.fit_content()"
   ]
  },
  {
   "cell_type": "raw",
   "metadata": {},
   "source": [
    "dirName = 'outputTest13'\n",
    "if not os.path.exists(os.path.abspath(dirName)):\n",
    "    os.makedirs(os.path.abspath(dirName))\n",
    "\n",
    "path = os.path.abspath(dirName)\n",
    "\n",
    "\n",
    "for networkNum in range(len(networks)-1):\n",
    "    spread =1000\n",
    "    \n",
    "    prevLayout = layout.copy()\n",
    "    \n",
    "    \n",
    "    layout = nx.spring_layout(networks[0], pos = prevLayout, iterations = 0)\n",
    "    \n",
    "    formatLayout = list(layout.values())\n",
    "\n",
    "    for i in range (len(formatLayout)):\n",
    "            for j in range (2):\n",
    "                formatLayout[i][j] = int(formatLayout[i][j]*spread)\n",
    "\n",
    "    df = pd.DataFrame(formatLayout, columns = ['x', 'y'], index = gmpNames)\n",
    "\n",
    "    \n",
    "#     importNode(df, cytoscape)\n",
    "    \n",
    "#     importEdge(convertEdge(networks[networkNum]), cytoscape)\n",
    "    importEdge(convertEdge(networks[networkNum]), cytoscape)\n",
    "    time.sleep(0.3) \n",
    "#     ^important\n",
    "    importNode(df, cytoscape)\n",
    "#     toCytoscape(df, convertEdge(networks[networkNum]), cytoscape)\n",
    "    importNode(convertNode(networks[networkNum]), cytoscape)\n",
    "    \n",
    "    time.sleep(0.3)\n",
    "    \n",
    "    cytoscape.view.fit_content()\n",
    "    cytoscape.ui.updateLodState(verbose=None)\n",
    "    \n",
    "    time.sleep(0.3)\n",
    "    \n",
    "    cytoscape.view.export(\n",
    "        options = 'jpeg',\n",
    "        outputFile = os.path.join(path, str(networkNum) +'.jpeg'))\n",
    "    \n",
    "    cytoscape.network.destroy()\n",
    "#     time.sleep(0.5)"
   ]
  },
  {
   "cell_type": "raw",
   "metadata": {},
   "source": [
    "df = convertNode(networks[networkNum])\n",
    "importNode(df, cytoscape)"
   ]
  },
  {
   "cell_type": "raw",
   "metadata": {},
   "source": [
    " prevLayout = layout.copy()\n",
    "\n",
    "layout = nx.spring_layout(networks[0], pos = prevLayout, iterations = 15)\n",
    "\n",
    "for i in range (len(layout)):\n",
    "        for j in range (2):\n",
    "            layout[i][j] = int(layout[i][j]*spread)\n",
    "\n",
    "df = pd.DataFrame(list(layout.values()), columns = ['x', 'y'])\n",
    "\n",
    "\n",
    "#     importNode(df, cytoscape)\n",
    "\n",
    "#     importEdge(convertEdge(networks[networkNum]), cytoscape)\n",
    "\n",
    "toCytoscape(df, convertEdge(networks[networkNum]), cytoscape)"
   ]
  },
  {
   "cell_type": "raw",
   "metadata": {},
   "source": [
    "spread = 100\n",
    "layout = nx.spring_layout(networks[0], iterations = 50)\n",
    "for i in range (len(layout)):\n",
    "        for j in range (2):\n",
    "            layout[i][j] = int(layout[i][j]*spread)\n",
    "\n",
    "df = pd.DataFrame(list(layout.values()), columns = ['x', 'y'])\n",
    "importNode(df, cytoscape)"
   ]
  },
  {
   "cell_type": "raw",
   "metadata": {},
   "source": [
    "layout2 = nx.spring_layout(networks[0], pos = layout, iterations = 12)\n",
    "\n",
    "for i in range (len(layout)):\n",
    "        for j in range (2):\n",
    "            layout2[i][j] = int(layout2[i][j]*spread)\n",
    "\n",
    "df = pd.DataFrame(list(layout2.values()), columns = ['x', 'y'])\n",
    "importNode(df, cytoscape)"
   ]
  },
  {
   "cell_type": "raw",
   "metadata": {},
   "source": [
    "# cytoscape only allows inputs it seems\n",
    "importEdge(convertEdge(networks[2]), cytoscape)"
   ]
  },
  {
   "cell_type": "raw",
   "metadata": {},
   "source": [
    "\n",
    "attribDF = convertNode(G)"
   ]
  },
  {
   "cell_type": "raw",
   "metadata": {},
   "source": [
    "importNode(attribDF, cytoscape)"
   ]
  },
  {
   "cell_type": "raw",
   "metadata": {},
   "source": [
    "len(df)"
   ]
  },
  {
   "cell_type": "raw",
   "metadata": {
    "scrolled": true
   },
   "source": [
    "# should end up with around time*frameMultiplier frames at the end, give or take some because of the casting to int\n",
    "playNetworks(networks, frameMultiplier = 10, spread = 500, cyclient = cytoscape)"
   ]
  },
  {
   "cell_type": "raw",
   "metadata": {},
   "source": [
    "cytoscape.view.export(outputFile = \"C:\\\\Users\\\\micha\\\\code\\\\cytoscape_code\\\\pic.jpeg\", options = 'jpeg')"
   ]
  },
  {
   "cell_type": "raw",
   "metadata": {},
   "source": [
    "cytoscape.view.export(outputFile = \"C:\\\\Users\\\\micha\\\\code\\\\cytoscape_code\\\\pic2.jpeg\", options = 'jpeg', Zoom = \"500\")"
   ]
  },
  {
   "cell_type": "raw",
   "metadata": {},
   "source": [
    "# nx.draw(L, pos = nx.spring_layout(L, iterations = 0, pos = {i:[i,i**2] for i in range (10)}))"
   ]
  }
 ],
 "metadata": {
  "kernelspec": {
   "display_name": "Python 3",
   "language": "python",
   "name": "python3"
  },
  "language_info": {
   "codemirror_mode": {
    "name": "ipython",
    "version": 3
   },
   "file_extension": ".py",
   "mimetype": "text/x-python",
   "name": "python",
   "nbconvert_exporter": "python",
   "pygments_lexer": "ipython3",
   "version": "3.8.5"
  }
 },
 "nbformat": 4,
 "nbformat_minor": 4
}
