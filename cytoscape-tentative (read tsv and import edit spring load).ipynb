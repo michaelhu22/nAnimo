{
 "cells": [
  {
   "cell_type": "code",
   "execution_count": 113,
   "metadata": {},
   "outputs": [],
   "source": [
    "%run functions/cytoscapeFunctions\n",
    "%run functions/edgeFunctions\n",
    "%run functions/springLayoutJN-Copy1"
   ]
  },
  {
   "cell_type": "code",
   "execution_count": 114,
   "metadata": {},
   "outputs": [],
   "source": [
    "from py2cytoscape import cyrest\n",
    "import networkx as nx\n",
    "import numpy as np\n",
    "import pandas as pd\n",
    "import random\n",
    "import time\n",
    "import tempfile\n",
    "from networkx.generators.random_graphs import barabasi_albert_graph as ba"
   ]
  },
  {
   "cell_type": "code",
   "execution_count": 115,
   "metadata": {},
   "outputs": [],
   "source": [
    "dirPath = os.path.dirname(os.path.abspath('template.cys'))"
   ]
  },
  {
   "cell_type": "code",
   "execution_count": 116,
   "metadata": {},
   "outputs": [],
   "source": [
    "cytoscape = cyrest.cyclient()"
   ]
  },
  {
   "cell_type": "code",
   "execution_count": 117,
   "metadata": {
    "scrolled": false
   },
   "outputs": [
    {
     "name": "stdout",
     "output_type": "stream",
     "text": [
      "CyREST online!\n"
     ]
    }
   ],
   "source": [
    "cytoscape.status()"
   ]
  },
  {
   "cell_type": "code",
   "execution_count": 118,
   "metadata": {},
   "outputs": [],
   "source": [
    "from py2cytoscape.data.cyrest_client import CyRestClient\n",
    "cy = CyRestClient()"
   ]
  },
  {
   "cell_type": "code",
   "execution_count": 119,
   "metadata": {},
   "outputs": [],
   "source": [
    "cy.session.delete()"
   ]
  },
  {
   "cell_type": "code",
   "execution_count": 120,
   "metadata": {},
   "outputs": [],
   "source": [
    "import os\n",
    "cytoscape.session.open(session_file = os.path.abspath(\"template.cys\"))"
   ]
  },
  {
   "cell_type": "code",
   "execution_count": 121,
   "metadata": {},
   "outputs": [],
   "source": [
    "# G = nx.fast_gnp_random_graph(15, 0.2)\n",
    "# G1 = nx.fast_gnp_random_graph(10, 0.3)\n",
    "# addEdgeAttrib(G, 'weight', 25,30)\n",
    "# addEdgeAttrib(G, 'color',5,200)\n",
    "# addEdgeAttrib(G1, 'weight',30,35)\n",
    "# addEdgeAttrib(G1, 'color',5,200)"
   ]
  },
  {
   "cell_type": "code",
   "execution_count": 122,
   "metadata": {},
   "outputs": [
    {
     "name": "stdout",
     "output_type": "stream",
     "text": [
      "32 10\n"
     ]
    }
   ],
   "source": [
    "networkFolder = os.path.join(os.path.dirname(os.path.abspath(\"template.cys\")), 'networks')\n",
    "networkFolder\n",
    "\n",
    "GMP = os.path.join(networkFolder, 'GMP')\n",
    "Prog = os.path.join(networkFolder, 'Progenitor')\n",
    "\n",
    "GMPedge = os.path.join(GMP, 'edge.tsv')\n",
    "GMPnode = os.path.join(GMP, 'node.tsv')\n",
    "\n",
    "ProgEdge = os.path.join(Prog, 'edge.tsv')\n",
    "ProgNode = os.path.join(Prog, 'node.tsv')\n",
    "\n",
    "gmpEdgeDF = pd.read_csv(GMPedge, delimiter = '\\t')\n",
    "gmpNodeDF = pd.read_csv(GMPnode, delimiter = '\\t')\n",
    "progEdgeDF = pd.read_csv(ProgEdge, delimiter = '\\t')\n",
    "progNodeDF = pd.read_csv(ProgNode, delimiter = '\\t')\n",
    "\n",
    "gmpNetwork = nx.Graph()\n",
    "gmpOverlap = 0\n",
    "\n",
    "for i in range (len(gmpEdgeDF)):\n",
    "    if gmpNetwork.has_edge(gmpEdgeDF['Regulator'][i], gmpEdgeDF['Target'][i]):\n",
    "        gmpOverlap += 1\n",
    "    gmpNetwork.add_edge(gmpEdgeDF['Regulator'][i], gmpEdgeDF['Target'][i])\n",
    "    \n",
    "progNetwork = nx.Graph()\n",
    "\n",
    "progOverlap = 0\n",
    "\n",
    "for i in range (len(progEdgeDF)):\n",
    "    if progNetwork.has_edge(progEdgeDF['Regulator'][i], progEdgeDF['Target'][i]):\n",
    "        progOverlap += 1\n",
    "    progNetwork.add_edge(progEdgeDF['Regulator'][i], progEdgeDF['Target'][i])\n",
    "\n",
    "print(gmpOverlap, progOverlap)    \n",
    "\n",
    "gmpNodeIndexDF = gmpNodeDF.set_index('Name')\n",
    "progNodeIndexDF = progNodeDF.set_index('Name')\n",
    "\n",
    "nx.set_node_attributes(gmpNetwork, gmpNodeDF.to_dict('index'))\n",
    "nx.set_node_attributes(gmpNetwork, gmpNodeIndexDF.to_dict('index'))\n",
    "\n",
    "gmpNetwork1 = gmpNetwork.copy()\n",
    "# gmpNetwork1.remove_node('IRF7')\n",
    "\n",
    "nx.set_node_attributes(progNetwork, progNodeDF.to_dict('index'))\n",
    "nx.set_node_attributes(progNetwork, progNodeIndexDF.to_dict('index'))"
   ]
  },
  {
   "cell_type": "code",
   "execution_count": 143,
   "metadata": {},
   "outputs": [],
   "source": [
    "addEdgeAttrib(gmpNetwork, 'weight',0,1)\n",
    "addEdgeAttrib(gmpNetwork1, 'weight', 0, 1)"
   ]
  },
  {
   "cell_type": "code",
   "execution_count": 124,
   "metadata": {},
   "outputs": [],
   "source": [
    "# addEdgeAttrib(progNetwork, 'weight', 17,23)"
   ]
  },
  {
   "cell_type": "code",
   "execution_count": 144,
   "metadata": {},
   "outputs": [],
   "source": [
    "conformEdges(gmpNetwork, gmpNetwork1)\n",
    "# conformEdges(gmpNetwork, progNetwork)\n",
    "networks = fillBetweenEdges(gmpNetwork, gmpNetwork1, 10)\n",
    "# networks2 = fillBetweenEdges(gmpNetwork, progNetwork, 10)"
   ]
  },
  {
   "cell_type": "code",
   "execution_count": 126,
   "metadata": {},
   "outputs": [],
   "source": [
    "deleteZeroWeights(networks)"
   ]
  },
  {
   "cell_type": "code",
   "execution_count": 127,
   "metadata": {},
   "outputs": [],
   "source": [
    "importEdge(convertEdge(networks[0]), cytoscape)"
   ]
  },
  {
   "cell_type": "code",
   "execution_count": 128,
   "metadata": {},
   "outputs": [],
   "source": [
    "importNode(convertNode(networks[0]), cytoscape)"
   ]
  },
  {
   "cell_type": "raw",
   "metadata": {},
   "source": [
    "cytoscape.network.create_empty(RootNetworkList = ' -- Create new network collection --')"
   ]
  },
  {
   "cell_type": "raw",
   "metadata": {},
   "source": [
    "importEdge(convertEdge(networks[9]), cytoscape)"
   ]
  },
  {
   "cell_type": "raw",
   "metadata": {},
   "source": [
    "importNode(convertNode(networks[9]), cytoscape)"
   ]
  },
  {
   "cell_type": "code",
   "execution_count": 132,
   "metadata": {},
   "outputs": [],
   "source": [
    "deleteLoneListNodes(networks)"
   ]
  },
  {
   "cell_type": "code",
   "execution_count": 133,
   "metadata": {},
   "outputs": [
    {
     "data": {
      "text/plain": [
       "Index(['BCL11A', 'CSTA', 'IL3RA', 'IRF7', 'LYZ', 'MZB1', 'RNASE2', 'SPIB',\n",
       "       'TCF4', 'CEBPB',\n",
       "       ...\n",
       "       'LRRC26', 'MALAT1', 'OFD1', 'TPI1', 'TSPAN13', 'MYLK', 'TCF7', 'XBP1',\n",
       "       'HSP90B1', 'HSPA5'],\n",
       "      dtype='object', length=248)"
      ]
     },
     "execution_count": 133,
     "metadata": {},
     "output_type": "execute_result"
    }
   ],
   "source": [
    "convertNode(networks[0]).index"
   ]
  },
  {
   "cell_type": "code",
   "execution_count": 145,
   "metadata": {
    "scrolled": false
   },
   "outputs": [
    {
     "data": {
      "image/png": "[encoded data removed]",
      "text/plain": [
       "<Figure size 432x288 with 1 Axes>"
      ]
     },
     "metadata": {},
     "output_type": "display_data"
    }
   ],
   "source": [
    "layout = fruchterman_reingold_layout_edit(networks[0], seed = 1, iterations = 1000, pretendIterations = 50, stop = 100)\n",
    "layoutList = list(layout.values())\n",
    "for x in range(len(layoutList)):\n",
    "    for y in range (2):\n",
    "        layoutList[x][y] = (layoutList[x][y]*1250)\n",
    "layoutPD = pd.DataFrame(layoutList, columns = ['x','y'],index = convertNode(networks[0]).index)\n",
    "nx.draw(networks[0], pos = layout)"
   ]
  }
 ],
 "metadata": {
  "kernelspec": {
   "display_name": "Python 3",
   "language": "python",
   "name": "python3"
  },
  "language_info": {
   "codemirror_mode": {
    "name": "ipython",
    "version": 3
   },
   "file_extension": ".py",
   "mimetype": "text/x-python",
   "name": "python",
   "nbconvert_exporter": "python",
   "pygments_lexer": "ipython3",
   "version": "3.8.5"
  }
 },
 "nbformat": 4,
 "nbformat_minor": 4
}
