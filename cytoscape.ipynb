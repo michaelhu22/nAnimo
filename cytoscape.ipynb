{
 "cells": [
  {
   "cell_type": "code",
   "execution_count": null,
   "metadata": {},
   "outputs": [],
   "source": [
    "%run cytoscapeFunctions"
   ]
  },
  {
   "cell_type": "code",
   "execution_count": null,
   "metadata": {},
   "outputs": [],
   "source": [
    "from py2cytoscape import cyrest\n",
    "import networkx as nx\n",
    "import numpy as np\n",
    "import pandas as pd\n",
    "import random\n",
    "import time\n",
    "import tempfile\n",
    "from networkx.generators.random_graphs import barabasi_albert_graph as ba"
   ]
  },
  {
   "cell_type": "code",
   "execution_count": null,
   "metadata": {},
   "outputs": [],
   "source": [
    "cytoscape = cyrest.cyclient()"
   ]
  },
  {
   "cell_type": "code",
   "execution_count": null,
   "metadata": {
    "scrolled": false
   },
   "outputs": [],
   "source": [
    "cytoscape.status()"
   ]
  },
  {
   "cell_type": "code",
   "execution_count": null,
   "metadata": {},
   "outputs": [],
   "source": [
    "from py2cytoscape.data.cyrest_client import CyRestClient\n",
    "cy = CyRestClient()"
   ]
  },
  {
   "cell_type": "code",
   "execution_count": null,
   "metadata": {},
   "outputs": [],
   "source": [
    "cy.session.delete()"
   ]
  },
  {
   "cell_type": "code",
   "execution_count": null,
   "metadata": {},
   "outputs": [],
   "source": [
    "import os\n",
    "cytoscape.session.open(session_file = os.path.abspath(\"template.cys\"))"
   ]
  },
  {
   "cell_type": "code",
   "execution_count": null,
   "metadata": {},
   "outputs": [],
   "source": [
    "networks = generateNetworks(num = 10, d = 3, n =10, time = 15)\n",
    "\n",
    "for x in range (len(networks)):\n",
    "    addNodeAttributes(networks[list(networks.keys())[x]], 'test attribute', 'test')\n",
    "\n",
    "nodes = convertNode(networks[list(networks)[0]])\n",
    "edges = convertEdge(networks[list(networks)[0]])\n",
    "predictTimes(networks) "
   ]
  },
  {
   "cell_type": "code",
   "execution_count": null,
   "metadata": {
    "scrolled": true
   },
   "outputs": [],
   "source": [
    "# should end up with around time*frameMultiplier frames at the end, give or take some because of the casting to int\n",
    "playNetworks(networks, frameMultiplier = 10, spread = 500, cyclient = cytoscape)"
   ]
  },
  {
   "cell_type": "code",
   "execution_count": null,
   "metadata": {},
   "outputs": [],
   "source": [
    "cytoscape.view.export(outputFile = \"C:\\\\Users\\\\micha\\\\code\\\\cytoscape_code\\\\pic.jpeg\", options = 'jpeg')"
   ]
  },
  {
   "cell_type": "code",
   "execution_count": null,
   "metadata": {},
   "outputs": [],
   "source": [
    "cytoscape.view.export(outputFile = \"C:\\\\Users\\\\micha\\\\code\\\\cytoscape_code\\\\pic2.jpeg\", options = 'jpeg', Zoom = \"500\")"
   ]
  },
  {
   "cell_type": "code",
   "execution_count": null,
   "metadata": {},
   "outputs": [],
   "source": [
    "# nx.draw(L, pos = nx.spring_layout(L, iterations = 0, pos = {i:[i,i**2] for i in range (10)}))"
   ]
  }
 ],
 "metadata": {
  "kernelspec": {
   "display_name": "Python 3",
   "language": "python",
   "name": "python3"
  },
  "language_info": {
   "codemirror_mode": {
    "name": "ipython",
    "version": 3
   },
   "file_extension": ".py",
   "mimetype": "text/x-python",
   "name": "python",
   "nbconvert_exporter": "python",
   "pygments_lexer": "ipython3",
   "version": "3.8.5"
  }
 },
 "nbformat": 4,
 "nbformat_minor": 4
}
